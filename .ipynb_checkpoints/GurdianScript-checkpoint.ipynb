{
 "cells": [
  {
   "cell_type": "code",
   "execution_count": 1,
   "metadata": {},
   "outputs": [],
   "source": [
    "from selenium.webdriver.support import expected_conditions as EC\n",
    "import time\n",
    "from selenium.webdriver.support.ui import WebDriverWait\n",
    "from selenium.webdriver.common.by import By "
   ]
  },
  {
   "cell_type": "code",
   "execution_count": 2,
   "metadata": {},
   "outputs": [],
   "source": [
    "from selenium import webdriver\n",
    "driver=webdriver.Firefox(executable_path='../geckodriver')"
   ]
  },
  {
   "cell_type": "code",
   "execution_count": 3,
   "metadata": {},
   "outputs": [],
   "source": [
    "url = \"https://www.theguardian.com/football/2020/apr/16/football-quiz-the-premier-leagues-first-weekend-in-1992-93\""
   ]
  },
  {
   "cell_type": "code",
   "execution_count": 4,
   "metadata": {},
   "outputs": [],
   "source": [
    "driver.get(url)"
   ]
  },
  {
   "cell_type": "code",
   "execution_count": 5,
   "metadata": {},
   "outputs": [
    {
     "data": {
      "text/plain": [
       "\"Football quiz: the Premier League's first weekend in 1992-93 | Football | The Guardian\""
      ]
     },
     "execution_count": 5,
     "metadata": {},
     "output_type": "execute_result"
    }
   ],
   "source": [
    "driver.implicitly_wait(10)\n",
    "driver.title"
   ]
  },
  {
   "cell_type": "code",
   "execution_count": 6,
   "metadata": {},
   "outputs": [],
   "source": [
    "x = driver.find_elements_by_tag_name('p')\n",
    "y = driver.find_elements_by_tag_name('h1')\n",
    "time = driver.find_element_by_css_selector(\".content__dateline-wpd\")"
   ]
  },
  {
   "cell_type": "code",
   "execution_count": 7,
   "metadata": {},
   "outputs": [
    {
     "name": "stdout",
     "output_type": "stream",
     "text": [
      "['The year was 1992, the shirts were baggy and we were all humming Simple Minds, but what can you remember about the games? More quizzes: iconic photos, assists, managers and rants Niall McVeigh Thu 16 Apr 2020 12.24 BST', 'Last modified on Thu 16 Apr 2020 We use cookies to improve your experience on our site and to show you personalised advertising. To find out more, read our privacy policy and cookie policy. ']\n"
     ]
    }
   ],
   "source": [
    "content = ''\n",
    "for i in x:\n",
    "    content += i.text+\" \"\n",
    "print(content.split('\\n'))"
   ]
  },
  {
   "cell_type": "code",
   "execution_count": 8,
   "metadata": {},
   "outputs": [
    {
     "name": "stdout",
     "output_type": "stream",
     "text": [
      "[\"Football quiz: the Premier League's first weekend in 1992-93 Your privacy \"]\n"
     ]
    }
   ],
   "source": [
    "title = ''\n",
    "for i in y:\n",
    "    title += i.text+\" \"\n",
    "print(title.split('\\n'))"
   ]
  },
  {
   "cell_type": "code",
   "execution_count": 9,
   "metadata": {},
   "outputs": [
    {
     "name": "stdout",
     "output_type": "stream",
     "text": [
      "Thu 16 Apr 2020 12.24 BST\n"
     ]
    }
   ],
   "source": [
    "t = time.text\n",
    "print(t)"
   ]
  },
  {
   "cell_type": "code",
   "execution_count": 25,
   "metadata": {},
   "outputs": [],
   "source": [
    "topic = driver.find_elements_by_tag_name('ul')"
   ]
  },
  {
   "cell_type": "code",
   "execution_count": 28,
   "metadata": {},
   "outputs": [
    {
     "name": "stdout",
     "output_type": "stream",
     "text": [
      "\n",
      "\n",
      "\n",
      "News\n",
      "Opinion\n",
      "Sport\n",
      "Culture\n",
      "Lifestyle\n",
      "\n",
      "\n",
      "\n",
      "\n",
      "\n",
      "\n",
      "\n",
      "\n",
      "\n",
      "\n",
      "\n",
      "Football\n",
      "Live scores\n",
      "Tables\n",
      "Fixtures\n",
      "Results\n",
      "Competitions\n",
      "Clubs\n",
      "\n",
      "\n",
      "Premier League\n",
      "quizzes\n",
      "Share on LinkedIn\n",
      "Share on Pinterest\n",
      "Reuse this content\n",
      "China may have conducted low-level nuclear test, US claims\n",
      "Live Coronavirus live news: 1m tests to be rolled out across Africa, as WHO warns over Europe situation\n",
      "Coronavirus vaccine: when will we have one?\n",
      "How Saudi Arabia's religious project transformed Indonesia\n",
      "Rita Wilson tells of 'extreme side effects' of experimental Covid-19 drug chloroquine\n",
      "Football\n",
      "Live scores\n",
      "Tables\n",
      "Fixtures\n",
      "Results\n",
      "Competitions\n",
      "Clubs\n",
      "News\n",
      "Opinion\n",
      "Sport\n",
      "Culture\n",
      "Lifestyle\n",
      "Contact us\n",
      "Complaints & corrections\n",
      "SecureDrop\n",
      "Work for us\n",
      "Privacy settings\n",
      "Privacy policy\n",
      "Cookie policy\n",
      "Terms & conditions\n",
      "Help\n",
      "All topics\n",
      "All writers\n",
      "Digital newspaper archive\n",
      "Facebook\n",
      "Twitter\n",
      "Advertise with us\n",
      "Search UK jobs\n",
      "Dating\n",
      "Discount Codes\n",
      "\n",
      "\n",
      "\n"
     ]
    }
   ],
   "source": [
    "for t in topic:\n",
    "    print(t.text)"
   ]
  },
  {
   "cell_type": "code",
   "execution_count": 10,
   "metadata": {},
   "outputs": [],
   "source": [
    "# #id of league\n",
    "# no_of_league = 0\n",
    "# leagues = []\n",
    "# for league in leagues_box[:19]:\n",
    "#     league_ = league.text.split(\"/n\")[0].split('\\n')\n",
    "#     if len(league_) != 1:\n",
    "#         leagues.append(league_[0])\n",
    "# print(leagues)\n",
    "# no_of_league = len(leagues)\n",
    "# # print(no_of_league)"
   ]
  },
  {
   "cell_type": "code",
   "execution_count": 11,
   "metadata": {},
   "outputs": [],
   "source": [
    "# league_box = driver.find_element_by_class_name(\"fc-container__header__title\")"
   ]
  },
  {
   "cell_type": "code",
   "execution_count": 12,
   "metadata": {},
   "outputs": [],
   "source": [
    "# league_box.click()\n",
    "# time.sleep(5)"
   ]
  },
  {
   "cell_type": "code",
   "execution_count": 13,
   "metadata": {},
   "outputs": [],
   "source": [
    "# league_news = driver.find_elements_by_tag_name('section')"
   ]
  },
  {
   "cell_type": "code",
   "execution_count": 14,
   "metadata": {},
   "outputs": [],
   "source": [
    "# l = league_news[0].find_element_by_class_name(\"fc-item__container\")"
   ]
  },
  {
   "cell_type": "code",
   "execution_count": 15,
   "metadata": {},
   "outputs": [],
   "source": [
    "# link = l.find_element_by_tag_name(\"a\")\n",
    "# driver.get(link.get_attribute('href'))"
   ]
  },
  {
   "cell_type": "code",
   "execution_count": 16,
   "metadata": {},
   "outputs": [],
   "source": [
    "# driver.back()"
   ]
  },
  {
   "cell_type": "code",
   "execution_count": 17,
   "metadata": {},
   "outputs": [],
   "source": [
    "# wait = WebDriverWait(league_news,10)\n",
    "# for news in league_news:\n",
    "#     id_news = news.get_attribute('id')\n",
    "#     if id_news != \"\":\n",
    "#         news_ = wait.until(EC.element_to_be_clickable(By.CLASS_NAME,\"fc-item__container\"))\n",
    "# #         news_ = news.find_element_by_class_name(\"fc-item__container\")\n",
    "#         news_.click()\n",
    "#         print(news_)\n",
    "#         news_.back()\n",
    "#     break"
   ]
  },
  {
   "cell_type": "code",
   "execution_count": 18,
   "metadata": {},
   "outputs": [],
   "source": [
    "# wait = WebDriverWait(league_news[0], 30)\n",
    "# element = wait.until(EC.element_to_be_clickable((By.CLASS_NAME, 'fc-item__container')))\n"
   ]
  },
  {
   "cell_type": "code",
   "execution_count": 19,
   "metadata": {},
   "outputs": [],
   "source": [
    "# element.click()"
   ]
  },
  {
   "cell_type": "code",
   "execution_count": 20,
   "metadata": {},
   "outputs": [],
   "source": [
    "# element.find_element_by_class_name(\"css-1pykr4h\")"
   ]
  },
  {
   "cell_type": "code",
   "execution_count": null,
   "metadata": {},
   "outputs": [],
   "source": []
  }
 ],
 "metadata": {
  "kernelspec": {
   "display_name": "Python 3",
   "language": "python",
   "name": "python3"
  },
  "language_info": {
   "codemirror_mode": {
    "name": "ipython",
    "version": 3
   },
   "file_extension": ".py",
   "mimetype": "text/x-python",
   "name": "python",
   "nbconvert_exporter": "python",
   "pygments_lexer": "ipython3",
   "version": "3.6.9"
  }
 },
 "nbformat": 4,
 "nbformat_minor": 2
}
