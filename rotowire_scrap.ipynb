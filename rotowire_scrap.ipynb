{
 "cells": [
  {
   "cell_type": "code",
   "execution_count": 1,
   "metadata": {},
   "outputs": [],
   "source": [
    "from selenium import webdriver\n",
    "driver=webdriver.Firefox(executable_path='../geckodriver')"
   ]
  },
  {
   "cell_type": "code",
   "execution_count": 2,
   "metadata": {},
   "outputs": [],
   "source": [
    "url = \"https://www.rotowire.com/soccer/news.php\"\n",
    "driver.get(url)"
   ]
  },
  {
   "cell_type": "code",
   "execution_count": 3,
   "metadata": {},
   "outputs": [],
   "source": [
    "driver.implicitly_wait(10)"
   ]
  },
  {
   "cell_type": "code",
   "execution_count": 4,
   "metadata": {},
   "outputs": [],
   "source": [
    "links_box = driver.find_element_by_css_selector(\".filter-links\")"
   ]
  },
  {
   "cell_type": "code",
   "execution_count": 5,
   "metadata": {},
   "outputs": [],
   "source": [
    "list_title_news = list()\n",
    "league_news = list()"
   ]
  },
  {
   "cell_type": "code",
   "execution_count": 6,
   "metadata": {},
   "outputs": [],
   "source": [
    "for x in links_box.text.split('\\n'):\n",
    "    list_title_news.append(x)"
   ]
  },
  {
   "cell_type": "code",
   "execution_count": 7,
   "metadata": {},
   "outputs": [],
   "source": [
    "but = driver.find_element_by_css_selector(\".filter-link.has-sub-nav\")\n",
    "but.click()\n",
    "driver.implicitly_wait(10)"
   ]
  },
  {
   "cell_type": "code",
   "execution_count": 8,
   "metadata": {},
   "outputs": [],
   "source": [
    "links_tag = links_box.find_elements_by_css_selector(\".filter-link\")"
   ]
  },
  {
   "cell_type": "code",
   "execution_count": 9,
   "metadata": {},
   "outputs": [
    {
     "name": "stdout",
     "output_type": "stream",
     "text": [
      "https://www.rotowire.com/soccer/news.php?view=all\n",
      "https://www.rotowire.com/soccer/news.php\n",
      "https://www.rotowire.com/soccer/news.php?view=injuries\n",
      "https://www.rotowire.com/soccer/news.php?view=top\n",
      "https://www.rotowire.com/soccer/news.php?league=1\n",
      "https://www.rotowire.com/soccer/news.php?league=9\n",
      "https://www.rotowire.com/soccer/news.php?league=98\n",
      "https://www.rotowire.com/soccer/news.php?league=99\n",
      "https://www.rotowire.com/soccer/news.php?league=5\n",
      "https://www.rotowire.com/soccer/news.php?league=6\n",
      "https://www.rotowire.com/soccer/news.php?league=3\n",
      "https://www.rotowire.com/soccer/news.php?league=2\n",
      "https://www.rotowire.com/soccer/news.php?league=7\n",
      "https://www.rotowire.com/soccer/news.php?league=16\n",
      "https://www.rotowire.com/soccer/news.php?league=20\n",
      "https://www.rotowire.com/soccer/news.php?league=100\n",
      "None\n"
     ]
    }
   ],
   "source": [
    "for x in links_tag:\n",
    "    print(x.get_attribute('href'))"
   ]
  },
  {
   "cell_type": "code",
   "execution_count": 10,
   "metadata": {},
   "outputs": [],
   "source": [
    "l = driver.find_element_by_css_selector(\".filter-links\")"
   ]
  },
  {
   "cell_type": "code",
   "execution_count": 11,
   "metadata": {},
   "outputs": [],
   "source": [
    "for x in l.text.split('\\n'):\n",
    "        list_title_news.append(x)"
   ]
  },
  {
   "cell_type": "code",
   "execution_count": 12,
   "metadata": {},
   "outputs": [
    {
     "name": "stdout",
     "output_type": "stream",
     "text": [
      "['All', 'Latest', 'Injuries', 'Top', 'EPL', 'EFL', 'UCL', 'UEL', 'La Liga', 'Serie A', 'Ligue 1', 'Bundesliga', 'MLS', 'Liga MX', 'A-League', 'Other']\n"
     ]
    }
   ],
   "source": [
    "list_title_news.remove('League')\n",
    "print(list_title_news)"
   ]
  },
  {
   "cell_type": "code",
   "execution_count": 13,
   "metadata": {},
   "outputs": [
    {
     "data": {
      "text/plain": [
       "17"
      ]
     },
     "execution_count": 13,
     "metadata": {},
     "output_type": "execute_result"
    }
   ],
   "source": [
    "league_news = {}\n",
    "len(links_tag)"
   ]
  },
  {
   "cell_type": "code",
   "execution_count": 14,
   "metadata": {},
   "outputs": [
    {
     "name": "stdout",
     "output_type": "stream",
     "text": [
      "Fantasy Soccer News\n",
      "Fantasy Soccer News\n",
      "Fantasy Soccer News\n",
      "Fantasy Soccer News\n",
      "Fantasy Soccer News\n",
      "Fantasy Soccer News\n",
      "Fantasy Soccer News\n",
      "Fantasy Soccer News\n",
      "Fantasy Soccer News\n",
      "Fantasy Soccer News\n",
      "Fantasy Soccer News\n",
      "Fantasy Soccer News\n",
      "Fantasy Soccer News\n",
      "Fantasy Soccer News\n",
      "Fantasy Soccer News\n",
      "Fantasy Soccer News\n"
     ]
    }
   ],
   "source": [
    "for i,x in enumerate(links_tag[:16]):\n",
    "    league_news[list_title_news[i]] = list()\n",
    "    link_text = str(x.get_attribute('href'))\n",
    "#     print(link_text)\n",
    "    driver.implicitly_wait(10)\n",
    "    driver.execute_script(\"window.open('\" + link_text + \"');\")\n",
    "    driver.switch_to.window(driver.window_handles[1])\n",
    "    driver.implicitly_wait(10)\n",
    "    main_box = driver.find_element_by_css_selector(\".grow-col\")\n",
    "    news_box = main_box.find_elements_by_css_selector(\".news-update.language-view-english\")\n",
    "    for box in news_box:\n",
    "        news = {}\n",
    "        news['player'] = box.find_element_by_css_selector(\".news-update__player-link\").text\n",
    "        news['date'] = box.find_element_by_css_selector(\".news-update__timestamp\").text\n",
    "        news['title'] = box.find_element_by_css_selector(\".news-update__timestamp\").text\n",
    "        news['content'] = box.find_element_by_css_selector(\".news-update__news\").text\n",
    "        league_news[list_title_news[i]].append(news)\n",
    "    driver.close()\n",
    "    driver.switch_to.window(driver.window_handles[0])\n",
    "    print(driver.title)\n",
    "driver.quit()"
   ]
  },
  {
   "cell_type": "code",
   "execution_count": 15,
   "metadata": {},
   "outputs": [
    {
     "name": "stdout",
     "output_type": "stream",
     "text": [
      "25\n",
      "25\n",
      "25\n",
      "25\n",
      "25\n",
      "25\n",
      "25\n",
      "25\n",
      "25\n",
      "25\n",
      "25\n",
      "25\n",
      "25\n",
      "25\n",
      "25\n",
      "25\n"
     ]
    }
   ],
   "source": [
    "for x in list_title_news:\n",
    "    print(len(league_news[x]))"
   ]
  },
  {
   "cell_type": "code",
   "execution_count": 16,
   "metadata": {},
   "outputs": [
    {
     "data": {
      "text/plain": [
       "[{'player': 'Kevin De Bruyne',\n",
       "  'date': 'April 18, 2020',\n",
       "  'title': 'April 18, 2020',\n",
       "  'content': 'De Bruyne (back) got a treadmill and has been swimming and running almost every day, he said in an interview with Sky Sports.'},\n",
       " {'player': 'Alisson Becker',\n",
       "  'date': 'April 18, 2020',\n",
       "  'title': 'April 18, 2020',\n",
       "  'content': 'Alisson (hip) \"was basically fit\" before the lockdown and is maintaining his fitness while at home, according to goalkeeping coach John Achterberg.'},\n",
       " {'player': 'Wesley Moraes',\n",
       "  'date': 'April 17, 2020',\n",
       "  'title': 'April 17, 2020',\n",
       "  'content': 'Wesley suffered complications following knee surgery and had \"to wait about eight weeks\" before he was able to return to his home in Brazil, according to manager Dean Smith.'},\n",
       " {'player': 'Tom Heaton',\n",
       "  'date': 'April 17, 2020',\n",
       "  'title': 'April 17, 2020',\n",
       "  'content': 'Heaton is walking and almost to a jogging stage in his recovery from knee surgery.'},\n",
       " {'player': 'Isaac Success',\n",
       "  'date': 'April 15, 2020',\n",
       "  'title': 'April 15, 2020',\n",
       "  'content': 'Success \"is doing lots of work in the gym and is improving quite a bit\" following hamstring surgery.'},\n",
       " {'player': 'Jose Holebas',\n",
       "  'date': 'April 15, 2020',\n",
       "  'title': 'April 15, 2020',\n",
       "  'content': 'Holebas is improving and visiting the training ground in London Colney following a small fracture in his foot.'},\n",
       " {'player': 'Daryl Janmaat',\n",
       "  'date': 'April 15, 2020',\n",
       "  'title': 'April 15, 2020',\n",
       "  'content': 'Janmaat had to get his knee drained Wednesday and has to wait two weeks before another decision is made on his injury, according to the team.'},\n",
       " {'player': 'Ulysses Llanez',\n",
       "  'date': 'April 15, 2020',\n",
       "  'title': 'April 15, 2020',\n",
       "  'content': \"Llanez has been promoted to Wolfsburg's first team for the first time since joining the club April 2019.\"},\n",
       " {'player': 'Dan-Axel Zagadou',\n",
       "  'date': 'April 15, 2020',\n",
       "  'title': 'April 15, 2020',\n",
       "  'content': \"Zagadou suffered external ligament damage in his left knee in Wednesday's training and will rehab over the coming weeks, the club announced.\"},\n",
       " {'player': 'Daniele Rugani',\n",
       "  'date': 'April 15, 2020',\n",
       "  'title': 'April 15, 2020',\n",
       "  'content': 'Rugani tested negative for Coronavirus, Juventus announced.'},\n",
       " {'player': 'Blaise Matuidi',\n",
       "  'date': 'April 15, 2020',\n",
       "  'title': 'April 15, 2020',\n",
       "  'content': 'Matuidi has tested negative at a double check for Coronavirus, Juventus announced.'},\n",
       " {'player': 'Christian Pulisic',\n",
       "  'date': 'April 15, 2020',\n",
       "  'title': 'April 15, 2020',\n",
       "  'content': 'Pulisic (groin) is \"feeling good now\" and has \"been training a lot\" while in quarantine with his family in the states.'},\n",
       " {'player': 'Gerard Deulofeu',\n",
       "  'date': 'April 13, 2020',\n",
       "  'title': 'April 13, 2020',\n",
       "  'content': \"Deulofeu (knee) told the club's podcast that he is receiving treatment two times per day while staying at his physio's home in Spain.\"},\n",
       " {'player': 'Cenk Tosun',\n",
       "  'date': 'April 13, 2020',\n",
       "  'title': 'April 13, 2020',\n",
       "  'content': 'Tosun (knee) is getting better by the day following surgery in early March and a full return is possible six to seven months after surgery, he told Sporx Ekstra.'},\n",
       " {'player': 'Martin Dubravka',\n",
       "  'date': 'April 13, 2020',\n",
       "  'title': 'April 13, 2020',\n",
       "  'content': 'Dubravka revealed in a team interview that is doing biking and running sessions and his knee is \"85-90% healed.\"'},\n",
       " {'player': 'Paul Pogba',\n",
       "  'date': 'April 13, 2020',\n",
       "  'title': 'April 13, 2020',\n",
       "  'content': 'Pogba (foot) revealed on the club\\'s official podcast that he is \"training and touching the ball\" and would \"have been back playing by now\" if there wasn\\'t a league suspension.'},\n",
       " {'player': 'Leroy Sane',\n",
       "  'date': 'April 9, 2020',\n",
       "  'title': 'April 9, 2020',\n",
       "  'content': 'Sane (knee) has played in a few matches with Man City\\'s youth team and \"still needs one or two competitive games to get back to full fitness so he can get his confidence back again,\" he revealed to the German Football Association.'},\n",
       " {'player': 'Arnaut Danjuma Groeneveld',\n",
       "  'date': 'April 9, 2020',\n",
       "  'title': 'April 9, 2020',\n",
       "  'content': 'Danjuma (ankle) is training at home and if league play started this week, he would be ready, he told Bournemouth Echo.'},\n",
       " {'player': 'Chris Mepham',\n",
       "  'date': 'April 9, 2020',\n",
       "  'title': 'April 9, 2020',\n",
       "  'content': 'Mepham (knee) \"was getting closer before the Premier League was suspended,\" manager Eddie Howe told Bournemouth Echo.'},\n",
       " {'player': 'Jose Izquierdo',\n",
       "  'date': 'April 6, 2020',\n",
       "  'title': 'April 6, 2020',\n",
       "  'content': 'Izquierdo is rehabilitating following knee surgery in his native Colombia, manager Graham Potter confirmed.'},\n",
       " {'player': 'Son Heung-Min',\n",
       "  'date': 'April 6, 2020',\n",
       "  'title': 'April 6, 2020',\n",
       "  'content': 'Son will commence his mandatory military service in South Korea this month, Tottenham confirmed Monday.'},\n",
       " {'player': 'Charlie Daniels',\n",
       "  'date': 'April 6, 2020',\n",
       "  'title': 'April 6, 2020',\n",
       "  'content': \"Daniels has done more running work the last few weeks, but he doesn't want to set a target for a possible return following a dislocated kneecap.\"},\n",
       " {'player': 'Morgan Schneiderlin',\n",
       "  'date': 'April 6, 2020',\n",
       "  'title': 'April 6, 2020',\n",
       "  'content': \"Schneiderlin posted on Instagram that he's off crutches and working on strengthening his knee following meniscus surgery.\"},\n",
       " {'player': 'Lucas Leiva',\n",
       "  'date': 'April 5, 2020',\n",
       "  'title': 'April 5, 2020',\n",
       "  'content': 'Leiva got his knee surgically cleaned up, Lazio announced.'},\n",
       " {'player': 'Dusan Vlahovic',\n",
       "  'date': 'April 5, 2020',\n",
       "  'title': 'April 5, 2020',\n",
       "  'content': 'Vlahovic has tested negative for COVID-19, Fiorentina announced.'}]"
      ]
     },
     "execution_count": 16,
     "metadata": {},
     "output_type": "execute_result"
    }
   ],
   "source": [
    "league_news[\"All\"]"
   ]
  },
  {
   "cell_type": "code",
   "execution_count": null,
   "metadata": {},
   "outputs": [],
   "source": []
  },
  {
   "cell_type": "code",
   "execution_count": null,
   "metadata": {},
   "outputs": [],
   "source": []
  },
  {
   "cell_type": "code",
   "execution_count": null,
   "metadata": {},
   "outputs": [],
   "source": []
  },
  {
   "cell_type": "code",
   "execution_count": null,
   "metadata": {},
   "outputs": [],
   "source": []
  }
 ],
 "metadata": {
  "kernelspec": {
   "display_name": "Python 3",
   "language": "python",
   "name": "python3"
  },
  "language_info": {
   "codemirror_mode": {
    "name": "ipython",
    "version": 3
   },
   "file_extension": ".py",
   "mimetype": "text/x-python",
   "name": "python",
   "nbconvert_exporter": "python",
   "pygments_lexer": "ipython3",
   "version": "3.6.9"
  }
 },
 "nbformat": 4,
 "nbformat_minor": 2
}
